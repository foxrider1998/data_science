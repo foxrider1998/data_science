{
 "cells": [
  {
   "cell_type": "code",
   "execution_count": 13,
   "metadata": {},
   "outputs": [
    {
     "name": "stdout",
     "output_type": "stream",
     "text": [
      "Akurasi data training adalah =  0.7866449511400652\n"
     ]
    }
   ],
   "source": [
    "import numpy as np\n",
    "import pandas as pd\n",
    "from sklearn.preprocessing import StandardScaler\n",
    "from sklearn.model_selection import train_test_split\n",
    "from sklearn import svm\n",
    "from sklearn.metrics import accuracy_score\n",
    "diabetes_dataset = pd.read_csv('./diabetes.csv')\n",
    "\n",
    "X = diabetes_dataset.drop (columns='Outcome', axis=1)\n",
    "Y = diabetes_dataset['Outcome']\n",
    "\n",
    "\n",
    "scaler = StandardScaler ()\n",
    "scaler.fit(X)\n",
    "standarized_data = scaler.transform(X)\n",
    "\n",
    "X = standarized_data\n",
    "Y = diabetes_dataset['Outcome']\n",
    "\n",
    "X_train, x_test, Y_train, Y_test= train_test_split(X, Y, test_size= 0.2, stratify=Y, random_state=2)\n",
    "\n",
    "\n",
    "classifier = svm.SVC (kernel='linear')\n",
    "classifier.fit(X_train, Y_train)\n",
    "X_train_prediction = classifier.predict (X_train)\n",
    "training_data_accuracy = accuracy_score(X_train_prediction, Y_train)\n",
    "print('Akurasi data training adalah = ', training_data_accuracy)\n"
   ]
  },
  {
   "cell_type": "code",
   "execution_count": 14,
   "metadata": {},
   "outputs": [
    {
     "name": "stdout",
     "output_type": "stream",
     "text": [
      "[[ 0.63994726  0.84832379  0.14964075  0.90726993 -0.69289057  0.20401277\n",
      "   0.46849198  1.4259954 ]]\n",
      "[1]\n",
      "Pasien terkena diabetes\n"
     ]
    },
    {
     "name": "stderr",
     "output_type": "stream",
     "text": [
      "/home/aris/.local/lib/python3.10/site-packages/sklearn/base.py:450: UserWarning: X does not have valid feature names, but StandardScaler was fitted with feature names\n",
      "  warnings.warn(\n"
     ]
    }
   ],
   "source": [
    "input_data = (6, 148, 72, 35, 0, 33.6, 0.627, 50)\n",
    "input_data_as_numpy_array= np.array(input_data)\n",
    "input_data_reshape = input_data_as_numpy_array.reshape(1, -1)\n",
    "std_data = scaler.transform(input_data_reshape)\n",
    "print(std_data)\n",
    "prediction = classifier.predict(std_data)\n",
    "print (prediction)\n",
    "\n",
    "if (prediction [0] == 0):\n",
    "    print('Pasien tidak terkena diabetes')\n",
    "else :\n",
    "    print('Pasien terkena diabetes')"
   ]
  },
  {
   "cell_type": "code",
   "execution_count": 15,
   "metadata": {},
   "outputs": [],
   "source": [
    "import pickle\n",
    "\n",
    "filename='diabetes_model.sav'\n",
    "pickle.dump(classifier,open(filename,'wb'))"
   ]
  }
 ],
 "metadata": {
  "kernelspec": {
   "display_name": "Python 3.10.6 64-bit",
   "language": "python",
   "name": "python3"
  },
  "language_info": {
   "codemirror_mode": {
    "name": "ipython",
    "version": 3
   },
   "file_extension": ".py",
   "mimetype": "text/x-python",
   "name": "python",
   "nbconvert_exporter": "python",
   "pygments_lexer": "ipython3",
   "version": "3.10.6"
  },
  "orig_nbformat": 4,
  "vscode": {
   "interpreter": {
    "hash": "916dbcbb3f70747c44a77c7bcd40155683ae19c65e1c03b4aa3499c5328201f1"
   }
  }
 },
 "nbformat": 4,
 "nbformat_minor": 2
}
